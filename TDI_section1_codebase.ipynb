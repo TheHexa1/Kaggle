{
 "cells": [
  {
   "cell_type": "code",
   "execution_count": 2,
   "metadata": {},
   "outputs": [],
   "source": [
    "# Imports\n",
    "import pandas as pd\n",
    "import numpy as np\n",
    "import matplotlib.pyplot as plt\n",
    "import seaborn as sns"
   ]
  },
  {
   "cell_type": "code",
   "execution_count": 3,
   "metadata": {},
   "outputs": [],
   "source": [
    "# Read train set to dataframe\n",
    "main_df = pd.read_csv('train_V2.csv')"
   ]
  },
  {
   "cell_type": "code",
   "execution_count": 6,
   "metadata": {},
   "outputs": [
    {
     "name": "stdout",
     "output_type": "stream",
     "text": [
      "(4446966, 29)\n"
     ]
    },
    {
     "data": {
      "text/html": [
       "<div>\n",
       "<style scoped>\n",
       "    .dataframe tbody tr th:only-of-type {\n",
       "        vertical-align: middle;\n",
       "    }\n",
       "\n",
       "    .dataframe tbody tr th {\n",
       "        vertical-align: top;\n",
       "    }\n",
       "\n",
       "    .dataframe thead th {\n",
       "        text-align: right;\n",
       "    }\n",
       "</style>\n",
       "<table border=\"1\" class=\"dataframe\">\n",
       "  <thead>\n",
       "    <tr style=\"text-align: right;\">\n",
       "      <th></th>\n",
       "      <th>Id</th>\n",
       "      <th>groupId</th>\n",
       "      <th>matchId</th>\n",
       "      <th>assists</th>\n",
       "      <th>boosts</th>\n",
       "      <th>damageDealt</th>\n",
       "      <th>DBNOs</th>\n",
       "      <th>headshotKills</th>\n",
       "      <th>heals</th>\n",
       "      <th>killPlace</th>\n",
       "      <th>...</th>\n",
       "      <th>revives</th>\n",
       "      <th>rideDistance</th>\n",
       "      <th>roadKills</th>\n",
       "      <th>swimDistance</th>\n",
       "      <th>teamKills</th>\n",
       "      <th>vehicleDestroys</th>\n",
       "      <th>walkDistance</th>\n",
       "      <th>weaponsAcquired</th>\n",
       "      <th>winPoints</th>\n",
       "      <th>winPlacePerc</th>\n",
       "    </tr>\n",
       "  </thead>\n",
       "  <tbody>\n",
       "    <tr>\n",
       "      <th>0</th>\n",
       "      <td>7f96b2f878858a</td>\n",
       "      <td>4d4b580de459be</td>\n",
       "      <td>a10357fd1a4a91</td>\n",
       "      <td>0</td>\n",
       "      <td>0</td>\n",
       "      <td>0.00</td>\n",
       "      <td>0</td>\n",
       "      <td>0</td>\n",
       "      <td>0</td>\n",
       "      <td>60</td>\n",
       "      <td>...</td>\n",
       "      <td>0</td>\n",
       "      <td>0.0000</td>\n",
       "      <td>0</td>\n",
       "      <td>0.00</td>\n",
       "      <td>0</td>\n",
       "      <td>0</td>\n",
       "      <td>244.80</td>\n",
       "      <td>1</td>\n",
       "      <td>1466</td>\n",
       "      <td>0.4444</td>\n",
       "    </tr>\n",
       "    <tr>\n",
       "      <th>1</th>\n",
       "      <td>eef90569b9d03c</td>\n",
       "      <td>684d5656442f9e</td>\n",
       "      <td>aeb375fc57110c</td>\n",
       "      <td>0</td>\n",
       "      <td>0</td>\n",
       "      <td>91.47</td>\n",
       "      <td>0</td>\n",
       "      <td>0</td>\n",
       "      <td>0</td>\n",
       "      <td>57</td>\n",
       "      <td>...</td>\n",
       "      <td>0</td>\n",
       "      <td>0.0045</td>\n",
       "      <td>0</td>\n",
       "      <td>11.04</td>\n",
       "      <td>0</td>\n",
       "      <td>0</td>\n",
       "      <td>1434.00</td>\n",
       "      <td>5</td>\n",
       "      <td>0</td>\n",
       "      <td>0.6400</td>\n",
       "    </tr>\n",
       "    <tr>\n",
       "      <th>2</th>\n",
       "      <td>1eaf90ac73de72</td>\n",
       "      <td>6a4a42c3245a74</td>\n",
       "      <td>110163d8bb94ae</td>\n",
       "      <td>1</td>\n",
       "      <td>0</td>\n",
       "      <td>68.00</td>\n",
       "      <td>0</td>\n",
       "      <td>0</td>\n",
       "      <td>0</td>\n",
       "      <td>47</td>\n",
       "      <td>...</td>\n",
       "      <td>0</td>\n",
       "      <td>0.0000</td>\n",
       "      <td>0</td>\n",
       "      <td>0.00</td>\n",
       "      <td>0</td>\n",
       "      <td>0</td>\n",
       "      <td>161.80</td>\n",
       "      <td>2</td>\n",
       "      <td>0</td>\n",
       "      <td>0.7755</td>\n",
       "    </tr>\n",
       "    <tr>\n",
       "      <th>3</th>\n",
       "      <td>4616d365dd2853</td>\n",
       "      <td>a930a9c79cd721</td>\n",
       "      <td>f1f1f4ef412d7e</td>\n",
       "      <td>0</td>\n",
       "      <td>0</td>\n",
       "      <td>32.90</td>\n",
       "      <td>0</td>\n",
       "      <td>0</td>\n",
       "      <td>0</td>\n",
       "      <td>75</td>\n",
       "      <td>...</td>\n",
       "      <td>0</td>\n",
       "      <td>0.0000</td>\n",
       "      <td>0</td>\n",
       "      <td>0.00</td>\n",
       "      <td>0</td>\n",
       "      <td>0</td>\n",
       "      <td>202.70</td>\n",
       "      <td>3</td>\n",
       "      <td>0</td>\n",
       "      <td>0.1667</td>\n",
       "    </tr>\n",
       "    <tr>\n",
       "      <th>4</th>\n",
       "      <td>315c96c26c9aac</td>\n",
       "      <td>de04010b3458dd</td>\n",
       "      <td>6dc8ff871e21e6</td>\n",
       "      <td>0</td>\n",
       "      <td>0</td>\n",
       "      <td>100.00</td>\n",
       "      <td>0</td>\n",
       "      <td>0</td>\n",
       "      <td>0</td>\n",
       "      <td>45</td>\n",
       "      <td>...</td>\n",
       "      <td>0</td>\n",
       "      <td>0.0000</td>\n",
       "      <td>0</td>\n",
       "      <td>0.00</td>\n",
       "      <td>0</td>\n",
       "      <td>0</td>\n",
       "      <td>49.75</td>\n",
       "      <td>2</td>\n",
       "      <td>0</td>\n",
       "      <td>0.1875</td>\n",
       "    </tr>\n",
       "  </tbody>\n",
       "</table>\n",
       "<p>5 rows × 29 columns</p>\n",
       "</div>"
      ],
      "text/plain": [
       "               Id         groupId         matchId  assists  boosts  \\\n",
       "0  7f96b2f878858a  4d4b580de459be  a10357fd1a4a91        0       0   \n",
       "1  eef90569b9d03c  684d5656442f9e  aeb375fc57110c        0       0   \n",
       "2  1eaf90ac73de72  6a4a42c3245a74  110163d8bb94ae        1       0   \n",
       "3  4616d365dd2853  a930a9c79cd721  f1f1f4ef412d7e        0       0   \n",
       "4  315c96c26c9aac  de04010b3458dd  6dc8ff871e21e6        0       0   \n",
       "\n",
       "   damageDealt  DBNOs  headshotKills  heals  killPlace  ...  revives  \\\n",
       "0         0.00      0              0      0         60  ...        0   \n",
       "1        91.47      0              0      0         57  ...        0   \n",
       "2        68.00      0              0      0         47  ...        0   \n",
       "3        32.90      0              0      0         75  ...        0   \n",
       "4       100.00      0              0      0         45  ...        0   \n",
       "\n",
       "   rideDistance  roadKills  swimDistance  teamKills vehicleDestroys  \\\n",
       "0        0.0000          0          0.00          0               0   \n",
       "1        0.0045          0         11.04          0               0   \n",
       "2        0.0000          0          0.00          0               0   \n",
       "3        0.0000          0          0.00          0               0   \n",
       "4        0.0000          0          0.00          0               0   \n",
       "\n",
       "   walkDistance  weaponsAcquired  winPoints  winPlacePerc  \n",
       "0        244.80                1       1466        0.4444  \n",
       "1       1434.00                5          0        0.6400  \n",
       "2        161.80                2          0        0.7755  \n",
       "3        202.70                3          0        0.1667  \n",
       "4         49.75                2          0        0.1875  \n",
       "\n",
       "[5 rows x 29 columns]"
      ]
     },
     "execution_count": 6,
     "metadata": {},
     "output_type": "execute_result"
    }
   ],
   "source": [
    "print(main_df.shape)\n",
    "main_df.head()"
   ]
  },
  {
   "cell_type": "code",
   "execution_count": 113,
   "metadata": {},
   "outputs": [
    {
     "name": "stdout",
     "output_type": "stream",
     "text": [
      "# of 1st place:  469231\n",
      "# of last place:  626592\n"
     ]
    }
   ],
   "source": [
    "# Number of players with percentile greater or equal to 90% \n",
    "print(\"# of 1st place: \", sum(main_df['winPlacePerc'] >= 0.9))\n",
    "\n",
    "# Number of players with percentile less than or equal to 10%\n",
    "print(\"# of last place: \", sum(main_df['winPlacePerc'] <= 0.1))"
   ]
  },
  {
   "cell_type": "markdown",
   "metadata": {},
   "source": [
    "* As a starter, we will be analyzing only players with win percent >= 90 \n",
    "* It will help fellow pubg players in understanding playing style of players, who has come in top 10 places\n"
   ]
  },
  {
   "cell_type": "code",
   "execution_count": 114,
   "metadata": {},
   "outputs": [
    {
     "name": "stdout",
     "output_type": "stream",
     "text": [
      "(469231, 29)\n"
     ]
    },
    {
     "data": {
      "text/html": [
       "<div>\n",
       "<style scoped>\n",
       "    .dataframe tbody tr th:only-of-type {\n",
       "        vertical-align: middle;\n",
       "    }\n",
       "\n",
       "    .dataframe tbody tr th {\n",
       "        vertical-align: top;\n",
       "    }\n",
       "\n",
       "    .dataframe thead th {\n",
       "        text-align: right;\n",
       "    }\n",
       "</style>\n",
       "<table border=\"1\" class=\"dataframe\">\n",
       "  <thead>\n",
       "    <tr style=\"text-align: right;\">\n",
       "      <th></th>\n",
       "      <th>Id</th>\n",
       "      <th>groupId</th>\n",
       "      <th>matchId</th>\n",
       "      <th>assists</th>\n",
       "      <th>boosts</th>\n",
       "      <th>damageDealt</th>\n",
       "      <th>DBNOs</th>\n",
       "      <th>headshotKills</th>\n",
       "      <th>heals</th>\n",
       "      <th>killPlace</th>\n",
       "      <th>...</th>\n",
       "      <th>revives</th>\n",
       "      <th>rideDistance</th>\n",
       "      <th>roadKills</th>\n",
       "      <th>swimDistance</th>\n",
       "      <th>teamKills</th>\n",
       "      <th>vehicleDestroys</th>\n",
       "      <th>walkDistance</th>\n",
       "      <th>weaponsAcquired</th>\n",
       "      <th>winPoints</th>\n",
       "      <th>winPlacePerc</th>\n",
       "    </tr>\n",
       "  </thead>\n",
       "  <tbody>\n",
       "    <tr>\n",
       "      <th>12</th>\n",
       "      <td>ce4f6ac165705e</td>\n",
       "      <td>da24cdb91969cc</td>\n",
       "      <td>535b5dbd965a94</td>\n",
       "      <td>0</td>\n",
       "      <td>0</td>\n",
       "      <td>0.00</td>\n",
       "      <td>0</td>\n",
       "      <td>0</td>\n",
       "      <td>0</td>\n",
       "      <td>37</td>\n",
       "      <td>...</td>\n",
       "      <td>0</td>\n",
       "      <td>6639.0</td>\n",
       "      <td>0</td>\n",
       "      <td>0.00</td>\n",
       "      <td>0</td>\n",
       "      <td>0</td>\n",
       "      <td>2784.0</td>\n",
       "      <td>6</td>\n",
       "      <td>0</td>\n",
       "      <td>0.9286</td>\n",
       "    </tr>\n",
       "    <tr>\n",
       "      <th>14</th>\n",
       "      <td>8e244ac61b6aab</td>\n",
       "      <td>d40d0c7d3573a1</td>\n",
       "      <td>94e1c1cc443c65</td>\n",
       "      <td>0</td>\n",
       "      <td>1</td>\n",
       "      <td>122.80</td>\n",
       "      <td>1</td>\n",
       "      <td>0</td>\n",
       "      <td>2</td>\n",
       "      <td>25</td>\n",
       "      <td>...</td>\n",
       "      <td>1</td>\n",
       "      <td>1237.0</td>\n",
       "      <td>0</td>\n",
       "      <td>60.29</td>\n",
       "      <td>0</td>\n",
       "      <td>0</td>\n",
       "      <td>1666.0</td>\n",
       "      <td>5</td>\n",
       "      <td>1531</td>\n",
       "      <td>0.9000</td>\n",
       "    </tr>\n",
       "    <tr>\n",
       "      <th>19</th>\n",
       "      <td>71cbdbc3b263e5</td>\n",
       "      <td>7b61f74b51906c</td>\n",
       "      <td>a329ac99449ad7</td>\n",
       "      <td>0</td>\n",
       "      <td>1</td>\n",
       "      <td>65.28</td>\n",
       "      <td>0</td>\n",
       "      <td>0</td>\n",
       "      <td>1</td>\n",
       "      <td>48</td>\n",
       "      <td>...</td>\n",
       "      <td>0</td>\n",
       "      <td>0.0</td>\n",
       "      <td>0</td>\n",
       "      <td>20.85</td>\n",
       "      <td>0</td>\n",
       "      <td>0</td>\n",
       "      <td>3310.0</td>\n",
       "      <td>3</td>\n",
       "      <td>1479</td>\n",
       "      <td>0.9310</td>\n",
       "    </tr>\n",
       "    <tr>\n",
       "      <th>23</th>\n",
       "      <td>0b6fbdfb59c994</td>\n",
       "      <td>7a75c3e86934f6</td>\n",
       "      <td>8b0a78c005cea0</td>\n",
       "      <td>0</td>\n",
       "      <td>6</td>\n",
       "      <td>1011.00</td>\n",
       "      <td>6</td>\n",
       "      <td>2</td>\n",
       "      <td>2</td>\n",
       "      <td>2</td>\n",
       "      <td>...</td>\n",
       "      <td>0</td>\n",
       "      <td>4860.0</td>\n",
       "      <td>0</td>\n",
       "      <td>0.00</td>\n",
       "      <td>0</td>\n",
       "      <td>0</td>\n",
       "      <td>2727.0</td>\n",
       "      <td>7</td>\n",
       "      <td>1603</td>\n",
       "      <td>0.9592</td>\n",
       "    </tr>\n",
       "    <tr>\n",
       "      <th>24</th>\n",
       "      <td>736eda9b9c20b3</td>\n",
       "      <td>d35e80e4e64dd4</td>\n",
       "      <td>62fbe726028662</td>\n",
       "      <td>0</td>\n",
       "      <td>3</td>\n",
       "      <td>327.60</td>\n",
       "      <td>4</td>\n",
       "      <td>1</td>\n",
       "      <td>1</td>\n",
       "      <td>3</td>\n",
       "      <td>...</td>\n",
       "      <td>0</td>\n",
       "      <td>0.0</td>\n",
       "      <td>0</td>\n",
       "      <td>0.00</td>\n",
       "      <td>0</td>\n",
       "      <td>0</td>\n",
       "      <td>3503.0</td>\n",
       "      <td>4</td>\n",
       "      <td>1496</td>\n",
       "      <td>0.9231</td>\n",
       "    </tr>\n",
       "  </tbody>\n",
       "</table>\n",
       "<p>5 rows × 29 columns</p>\n",
       "</div>"
      ],
      "text/plain": [
       "                Id         groupId         matchId  assists  boosts  \\\n",
       "12  ce4f6ac165705e  da24cdb91969cc  535b5dbd965a94        0       0   \n",
       "14  8e244ac61b6aab  d40d0c7d3573a1  94e1c1cc443c65        0       1   \n",
       "19  71cbdbc3b263e5  7b61f74b51906c  a329ac99449ad7        0       1   \n",
       "23  0b6fbdfb59c994  7a75c3e86934f6  8b0a78c005cea0        0       6   \n",
       "24  736eda9b9c20b3  d35e80e4e64dd4  62fbe726028662        0       3   \n",
       "\n",
       "    damageDealt  DBNOs  headshotKills  heals  killPlace  ...  revives  \\\n",
       "12         0.00      0              0      0         37  ...        0   \n",
       "14       122.80      1              0      2         25  ...        1   \n",
       "19        65.28      0              0      1         48  ...        0   \n",
       "23      1011.00      6              2      2          2  ...        0   \n",
       "24       327.60      4              1      1          3  ...        0   \n",
       "\n",
       "    rideDistance  roadKills  swimDistance  teamKills vehicleDestroys  \\\n",
       "12        6639.0          0          0.00          0               0   \n",
       "14        1237.0          0         60.29          0               0   \n",
       "19           0.0          0         20.85          0               0   \n",
       "23        4860.0          0          0.00          0               0   \n",
       "24           0.0          0          0.00          0               0   \n",
       "\n",
       "    walkDistance  weaponsAcquired  winPoints  winPlacePerc  \n",
       "12        2784.0                6          0        0.9286  \n",
       "14        1666.0                5       1531        0.9000  \n",
       "19        3310.0                3       1479        0.9310  \n",
       "23        2727.0                7       1603        0.9592  \n",
       "24        3503.0                4       1496        0.9231  \n",
       "\n",
       "[5 rows x 29 columns]"
      ]
     },
     "execution_count": 114,
     "metadata": {},
     "output_type": "execute_result"
    }
   ],
   "source": [
    "# Subsetting players with win percentile greater or equal to 90%\n",
    "# because we want to analyze their stats to get a glimse of their playing style\n",
    "players_in_top10_perc = main_df[main_df['winPlacePerc'] >= 0.9]\n",
    "\n",
    "print(players_in_top10_perc.shape)\n",
    "players_in_top10_perc.head()"
   ]
  },
  {
   "cell_type": "markdown",
   "metadata": {},
   "source": [
    "* Let's first check the number of top players in each category: Solo, Duo or Squad"
   ]
  },
  {
   "cell_type": "code",
   "execution_count": 116,
   "metadata": {},
   "outputs": [
    {
     "name": "stdout",
     "output_type": "stream",
     "text": [
      "# of total solo players in top 10 percentile wins:  74823\n",
      "# of total duo players in top 10 percentile wins:  136194\n",
      "# of total sqaud players in top 10 percentile wins:  65989\n"
     ]
    }
   ],
   "source": [
    "solo_players_in_top10_perc = players_in_top10_perc[players_in_top10_perc.matchType.isin(['solo', 'solo-fpp'])]\n",
    "duo_players_in_top10_perc = players_in_top10_perc[players_in_top10_perc.matchType.isin(['duo', 'duo-fpp'])]\n",
    "squad_players_in_top10_perc = players_in_top10_perc[players_in_top10_perc.matchType.isin(['squad', 'sqaud-fpp'])]\n",
    "\n",
    "print('# of total solo players in top 10 percentile wins: ', solo_players_in_top10_perc.shape[0])\n",
    "print('# of total duo players in top 10 percentile wins: ', duo_players_in_top10_perc.shape[0])\n",
    "print('# of total sqaud players in top 10 percentile wins: ', squad_players_in_top10_perc.shape[0])"
   ]
  },
  {
   "cell_type": "markdown",
   "metadata": {},
   "source": [
    "* We can plot correlation map for some features we are more interested in\n",
    "* It will give an idea about each feature's correlation with win percentile"
   ]
  },
  {
   "cell_type": "code",
   "execution_count": 117,
   "metadata": {},
   "outputs": [],
   "source": [
    "players_in_top10_perc_subset =  players_in_top10_perc[['assists', 'boosts', 'damageDealt', 'DBNOs', 'heals', 'kills',\n",
    "                                               'revives', 'rideDistance', 'walkDistance', 'weaponsAcquired',\n",
    "                                               'winPlacePerc']]"
   ]
  },
  {
   "cell_type": "code",
   "execution_count": 118,
   "metadata": {},
   "outputs": [
    {
     "data": {
      "text/plain": [
       "<matplotlib.axes._subplots.AxesSubplot at 0x2930b9d26d8>"
      ]
     },
     "execution_count": 118,
     "metadata": {},
     "output_type": "execute_result"
    },
    {
     "data": {
      "image/png": "[encoded data removed]",
      "text/plain": [
       "<Figure size 432x288 with 2 Axes>"
      ]
     },
     "metadata": {
      "needs_background": "light"
     },
     "output_type": "display_data"
    }
   ],
   "source": [
    "corr = players_in_top10_perc_subset.corr()\n",
    "\n",
    "sns.heatmap(corr,\n",
    "        xticklabels=corr.columns,\n",
    "        yticklabels=corr.columns)"
   ]
  },
  {
   "cell_type": "markdown",
   "metadata": {},
   "source": [
    "* From the heatmap, it is visible that features: 'assists', 'kills' and 'damage dealt' seem more correlated with winPlace percentile\n",
    "* So we will plot those features to better understand the stats"
   ]
  },
  {
   "cell_type": "code",
   "execution_count": 119,
   "metadata": {},
   "outputs": [
    {
     "name": "stdout",
     "output_type": "stream",
     "text": [
      "Average # of boosts used by players in top10 percentile:  4\n"
     ]
    }
   ],
   "source": [
    "# Boosts\n",
    "\n",
    "print(\"Average # of boosts used by players in top10 percentile: \", round(np.mean(players_in_top10_perc.boosts)))"
   ]
  },
  {
   "cell_type": "code",
   "execution_count": 121,
   "metadata": {},
   "outputs": [
    {
     "data": {
      "text/plain": [
       "<matplotlib.axes._subplots.AxesSubplot at 0x2930b961160>"
      ]
     },
     "execution_count": 121,
     "metadata": {},
     "output_type": "execute_result"
    },
    {
     "data": {
      "image/png": "[encoded data removed]",
      "text/plain": [
       "<Figure size 432x288 with 1 Axes>"
      ]
     },
     "metadata": {
      "needs_background": "light"
     },
     "output_type": "display_data"
    }
   ],
   "source": [
    "# Let's look at # of boosts by number of players\n",
    "sns.countplot(players_in_top10_perc.boosts)"
   ]
  },
  {
   "cell_type": "code",
   "execution_count": 122,
   "metadata": {},
   "outputs": [
    {
     "name": "stdout",
     "output_type": "stream",
     "text": [
      "Average damage dealt:  319\n"
     ]
    }
   ],
   "source": [
    "# Damage dealt\n",
    "\n",
    "print(\"Average damage dealt: \", round(np.mean(players_in_top10_perc.damageDealt)))"
   ]
  },
  {
   "cell_type": "code",
   "execution_count": 123,
   "metadata": {},
   "outputs": [
    {
     "data": {
      "text/plain": [
       "<matplotlib.axes._subplots.AxesSubplot at 0x2930b992ac8>"
      ]
     },
     "execution_count": 123,
     "metadata": {},
     "output_type": "execute_result"
    },
    {
     "data": {
      "image/png": "[encoded data removed]",
      "text/plain": [
       "<Figure size 432x288 with 1 Axes>"
      ]
     },
     "metadata": {
      "needs_background": "light"
     },
     "output_type": "display_data"
    }
   ],
   "source": [
    "# distribution plot for damage dealt by each player in top 10 percentile\n",
    "sns.distplot(players_in_top10_perc.damageDealt)"
   ]
  },
  {
   "cell_type": "code",
   "execution_count": 124,
   "metadata": {},
   "outputs": [
    {
     "name": "stdout",
     "output_type": "stream",
     "text": [
      "Average # of kills:  3\n"
     ]
    }
   ],
   "source": [
    "# Kills\n",
    "\n",
    "print(\"Average # of kills: \", round(np.mean(players_in_top10_perc.kills)))"
   ]
  },
  {
   "cell_type": "code",
   "execution_count": 125,
   "metadata": {},
   "outputs": [
    {
     "data": {
      "text/plain": [
       "<matplotlib.axes._subplots.AxesSubplot at 0x2930ecfc1d0>"
      ]
     },
     "execution_count": 125,
     "metadata": {},
     "output_type": "execute_result"
    },
    {
     "data": {
      "image/png": "[encoded data removed]",
      "text/plain": [
       "<Figure size 432x288 with 1 Axes>"
      ]
     },
     "metadata": {
      "needs_background": "light"
     },
     "output_type": "display_data"
    }
   ],
   "source": [
    "# count for number of kills\n",
    "sns.countplot(players_in_top10_perc.kills)"
   ]
  },
  {
   "cell_type": "markdown",
   "metadata": {},
   "source": [
    "* Based on above countplot, we can divide kills into different bins to better understand correlation"
   ]
  },
  {
   "cell_type": "code",
   "execution_count": 127,
   "metadata": {},
   "outputs": [
    {
     "name": "stderr",
     "output_type": "stream",
     "text": [
      "E:\\Anaconda3\\lib\\site-packages\\ipykernel_launcher.py:4: SettingWithCopyWarning: \n",
      "A value is trying to be set on a copy of a slice from a DataFrame.\n",
      "Try using .loc[row_indexer,col_indexer] = value instead\n",
      "\n",
      "See the caveats in the documentation: http://pandas.pydata.org/pandas-docs/stable/indexing.html#indexing-view-versus-copy\n",
      "  after removing the cwd from sys.path.\n"
     ]
    },
    {
     "data": {
      "text/plain": [
       "<matplotlib.axes._subplots.AxesSubplot at 0x2930f2f7be0>"
      ]
     },
     "execution_count": 127,
     "metadata": {},
     "output_type": "execute_result"
    },
    {
     "data": {
      "image/png": "[encoded data removed]",
      "text/plain": [
       "<Figure size 432x288 with 1 Axes>"
      ]
     },
     "metadata": {
      "needs_background": "light"
     },
     "output_type": "display_data"
    }
   ],
   "source": [
    "# Dividing kills into 6 different bins\n",
    "players_in_top10_perc['kills_bin'] = pd.cut(players_in_top10_perc['kills'], [-1, 0, 3, 5, 7, 10, 20], \n",
    "                                            labels=['0 kills','1-3 kills', '3-5 kills', '5-7 kills',\n",
    "                                                    '7-10 kills', '10+ kills'])\n",
    "\n",
    "# Boxplot of winPlacePerc vs kills\n",
    "sns.boxplot(x='kills_bin', y='winPlacePerc', data=players_in_top10_perc)"
   ]
  },
  {
   "cell_type": "markdown",
   "metadata": {},
   "source": [
    "* This box plot gives clear explanation that players with higher kills (more than 5) have better chance of coming in top 10 percentile win place\n",
    "* So if you want to come in top 10 places, kill more enemies! The higher the better!"
   ]
  },
  {
   "cell_type": "code",
   "execution_count": 56,
   "metadata": {},
   "outputs": [
    {
     "name": "stdout",
     "output_type": "stream",
     "text": [
      "Average walkdistance for top 10 percentile players: 2812.632024m \n"
     ]
    },
    {
     "data": {
      "text/plain": [
       "<matplotlib.axes._subplots.AxesSubplot at 0x293204e4358>"
      ]
     },
     "execution_count": 56,
     "metadata": {},
     "output_type": "execute_result"
    },
    {
     "data": {
      "image/png": "[encoded data removed]",
      "text/plain": [
       "<Figure size 432x288 with 1 Axes>"
      ]
     },
     "metadata": {
      "needs_background": "light"
     },
     "output_type": "display_data"
    }
   ],
   "source": [
    "# WalkDistance\n",
    "\n",
    "print(\"Average walkdistance for top 10 percentile players: %fm \" % np.mean(players_in_top10_perc.walkDistance))\n",
    "\n",
    "sns.distplot(players_in_top10_perc.walkDistance)"
   ]
  },
  {
   "cell_type": "markdown",
   "metadata": {},
   "source": [
    "* From heatmap we saw that, walkDistance is not a bigger factor to come in top 10 places. \n",
    "* As a pubg player, I know that distance might be different for players in top10 places based on final zones\n",
    "* hence, walkDistance or rideDistance won't add up much for the top 10 places"
   ]
  },
  {
   "cell_type": "code",
   "execution_count": 57,
   "metadata": {},
   "outputs": [
    {
     "name": "stdout",
     "output_type": "stream",
     "text": [
      "Average # of weapons acquired for top 10 percentile players:  5\n"
     ]
    }
   ],
   "source": [
    "# weaponsAcquired\n",
    "\n",
    "print(\"Average # of weapons acquired for top 10 percentile players: \", round(np.mean(players_in_top10_perc.weaponsAcquired)))"
   ]
  },
  {
   "cell_type": "code",
   "execution_count": 128,
   "metadata": {},
   "outputs": [
    {
     "name": "stderr",
     "output_type": "stream",
     "text": [
      "E:\\Anaconda3\\lib\\site-packages\\ipykernel_launcher.py:4: SettingWithCopyWarning: \n",
      "A value is trying to be set on a copy of a slice from a DataFrame.\n",
      "Try using .loc[row_indexer,col_indexer] = value instead\n",
      "\n",
      "See the caveats in the documentation: http://pandas.pydata.org/pandas-docs/stable/indexing.html#indexing-view-versus-copy\n",
      "  after removing the cwd from sys.path.\n"
     ]
    },
    {
     "data": {
      "text/plain": [
       "<matplotlib.axes._subplots.AxesSubplot at 0x2930f3ae9e8>"
      ]
     },
     "execution_count": 128,
     "metadata": {},
     "output_type": "execute_result"
    },
    {
     "data": {
      "image/png": "[encoded data removed]",
      "text/plain": [
       "<Figure size 432x288 with 1 Axes>"
      ]
     },
     "metadata": {
      "needs_background": "light"
     },
     "output_type": "display_data"
    }
   ],
   "source": [
    "# binning weaponsAcquired feature\n",
    "players_in_top10_perc['weapons_bin'] = pd.cut(players_in_top10_perc['weaponsAcquired'], \n",
    "                                                    [0, 2, 4, 6, 8, 10, 30], labels=['0-2','2-4', '4-6', '6-8',\n",
    "                                                                                      '8-10', '10+'])\n",
    "sns.boxplot(x='weapons_bin', y='winPlacePerc', data=players_in_top10_perc)"
   ]
  },
  {
   "cell_type": "markdown",
   "metadata": {},
   "source": [
    "* This boxplot denotes that, how many number of weapons player used during whole game won't affect his chance of coming into top 10 places. \n",
    "* Winning players might play only with 3-4 weapons from start to end. It won't improve your chance of winning."
   ]
  },
  {
   "cell_type": "code",
   "execution_count": null,
   "metadata": {},
   "outputs": [],
   "source": []
  }
 ],
 "metadata": {
  "kernelspec": {
   "display_name": "Python 3",
   "language": "python",
   "name": "python3"
  },
  "language_info": {
   "codemirror_mode": {
    "name": "ipython",
    "version": 3
   },
   "file_extension": ".py",
   "mimetype": "text/x-python",
   "name": "python",
   "nbconvert_exporter": "python",
   "pygments_lexer": "ipython3",
   "version": "3.7.3"
  }
 },
 "nbformat": 4,
 "nbformat_minor": 2
}
